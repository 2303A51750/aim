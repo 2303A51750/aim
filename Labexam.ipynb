{
  "nbformat": 4,
  "nbformat_minor": 0,
  "metadata": {
    "colab": {
      "provenance": [],
      "authorship_tag": "ABX9TyOOY0TetyfK/c/E6otb58yy",
      "include_colab_link": true
    },
    "kernelspec": {
      "name": "python3",
      "display_name": "Python 3"
    },
    "language_info": {
      "name": "python"
    }
  },
  "cells": [
    {
      "cell_type": "markdown",
      "metadata": {
        "id": "view-in-github",
        "colab_type": "text"
      },
      "source": [
        "<a href=\"https://colab.research.google.com/github/2303A51750/aim/blob/main/Labexam.ipynb\" target=\"_parent\"><img src=\"https://colab.research.google.com/assets/colab-badge.svg\" alt=\"Open In Colab\"/></a>"
      ]
    },
    {
      "cell_type": "code",
      "source": [
        "\"\"\"Prediction of Startup Opportunities in Turkish Business\n",
        "Q1. Identify the Top-10 Startups in Turkey\n",
        "Q2. Find the Max and Min crowdsourced funding obtained by Turkey\n",
        "Q3.Name the gender which has acquired the most funding for Startups\n",
        "Q4.Identify the Top-5 cities where startup is most\n",
        "Q5.Name the Top-5 technologies popular in Turkish startups.\n",
        "Q6. Apply either Classification or Clustering or Regression Model and evaluate the accuracy, error metrics of the model.\"\"\""
      ],
      "metadata": {
        "id": "dzeMH1_o8AGF"
      },
      "execution_count": null,
      "outputs": []
    },
    {
      "cell_type": "code",
      "source": [
        "import pandas as pd\n",
        "import numpy as np\n",
        "from sklearn.cluster import KMeans\n",
        "from sklearn.preprocessing import LabelEncoder, StandardScaler\n",
        "import matplotlib.pyplot as plt\n",
        "from collections import Counter"
      ],
      "metadata": {
        "id": "keXSj21t8C2z"
      },
      "execution_count": 1,
      "outputs": []
    },
    {
      "cell_type": "code",
      "source": [
        "file_path = 'turkishCF.csv'  # Update this with the correct path if running locally\n",
        "data = pd.read_csv(file_path, delimiter=';')"
      ],
      "metadata": {
        "id": "ZkR99yVn8Eo3"
      },
      "execution_count": null,
      "outputs": []
    },
    {
      "cell_type": "code",
      "source": [
        "print(\"Dataset Sample:\")\n",
        "print(data.head())"
      ],
      "metadata": {
        "id": "geOWc3gC8GoX"
      },
      "execution_count": null,
      "outputs": []
    },
    {
      "cell_type": "code",
      "source": [
        "top_10_startups = data.nlargest(10, 'toplanan_tutar')[['proje_adi', 'toplanan_tutar']]\n",
        "print(\"\\nTop-10 Startups in Turkey:\")\n",
        "print(top_10_startups)"
      ],
      "metadata": {
        "id": "8lGztwgw8I0m"
      },
      "execution_count": null,
      "outputs": []
    },
    {
      "cell_type": "code",
      "source": [
        "max_funding = data['toplanan_tutar'].max()\n",
        "min_funding = data['toplanan_tutar'].min()\n",
        "print(\"\\nMax Crowdsourced Funding:\", max_funding)\n",
        "print(\"Min Crowdsourced Funding:\", min_funding)"
      ],
      "metadata": {
        "id": "oDYWrNS_8LjG"
      },
      "execution_count": null,
      "outputs": []
    },
    {
      "cell_type": "code",
      "source": [
        "gender_funding = data.groupby('proje_sahibi_cinsiyet')['toplanan_tutar'].sum()\n",
        "most_funded_gender = gender_funding.idxmax()\n",
        "print(\"\\nGender Acquiring the Most Funding:\")\n",
        "print(f\"{most_funded_gender} with {gender_funding[most_funded_gender]} total funding.\")\n"
      ],
      "metadata": {
        "id": "cK12iCmF8Nkl"
      },
      "execution_count": null,
      "outputs": []
    },
    {
      "cell_type": "code",
      "source": [
        "top_5_cities = data['konum'].value_counts().head(5)\n",
        "print(\"\\nTop-5 Cities with Most Startups:\")\n",
        "print(top_5_cities)\n"
      ],
      "metadata": {
        "id": "EqsMcs1S8Pc2"
      },
      "execution_count": null,
      "outputs": []
    },
    {
      "cell_type": "code",
      "source": [
        "top_5_technologies = data['kategori'].value_counts().head(5)\n",
        "print(\"\\nTop-5 Technologies in Turkish Startups:\")\n",
        "print(top_5_technologies)"
      ],
      "metadata": {
        "id": "XAO71MYi8RMY"
      },
      "execution_count": null,
      "outputs": []
    },
    {
      "cell_type": "code",
      "source": [
        "numerical_columns = ['hedef_miktari', 'toplanan_tutar', 'destekci_sayisi']\n",
        "cluster_data = data[numerical_columns].dropna()\n"
      ],
      "metadata": {
        "id": "CqABRB_p8TU2"
      },
      "execution_count": null,
      "outputs": []
    },
    {
      "cell_type": "code",
      "source": [
        "scaler = StandardScaler()\n",
        "scaled_data = scaler.fit_transform(cluster_data)"
      ],
      "metadata": {
        "id": "Xohf604z8Wnf"
      },
      "execution_count": null,
      "outputs": []
    },
    {
      "cell_type": "code",
      "source": [
        "kmeans = KMeans(n_clusters=3, random_state=42)\n",
        "clusters = kmeans.fit_predict(scaled_data)\n"
      ],
      "metadata": {
        "id": "ZMww2xs28YKv"
      },
      "execution_count": null,
      "outputs": []
    },
    {
      "cell_type": "code",
      "source": [
        "data['Cluster'] = -1\n",
        "data.loc[cluster_data.index, 'Cluster'] = clusters"
      ],
      "metadata": {
        "id": "80IzbVBl8aQ3"
      },
      "execution_count": null,
      "outputs": []
    },
    {
      "cell_type": "code",
      "source": [
        "print(\"\\nCluster Centers:\")\n",
        "print(kmeans.cluster_centers_)"
      ],
      "metadata": {
        "id": "yWzjSoHH8cLg"
      },
      "execution_count": null,
      "outputs": []
    },
    {
      "cell_type": "code",
      "source": [
        "plt.figure(figsize=(8, 6))\n",
        "plt.scatter(scaled_data[:, 0], scaled_data[:, 1], c=clusters, cmap='viridis', alpha=0.6)\n",
        "plt.title(\"K-Means Clustering of Startups\")\n",
        "plt.xlabel(\"Scaled Feature 1\")\n",
        "plt.ylabel(\"Scaled Feature 2\")\n",
        "plt.colorbar(label=\"Cluster\")\n",
        "plt.show()"
      ],
      "metadata": {
        "id": "cMQ2a-HO8eC-"
      },
      "execution_count": null,
      "outputs": []
    }
  ]
}